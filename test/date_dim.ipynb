{
 "cells": [
  {
   "cell_type": "code",
   "execution_count": 1,
   "metadata": {},
   "outputs": [],
   "source": [
    "import pendulum\n",
    "import pandas as pd"
   ]
  },
  {
   "cell_type": "code",
   "execution_count": 2,
   "metadata": {},
   "outputs": [],
   "source": [
    "import holidays  # noqa: E402\n",
    "\n",
    "us_holidays = holidays.US()\n",
    "\n",
    "us_holidays.get(\"2014-06-01\")"
   ]
  },
  {
   "cell_type": "code",
   "execution_count": 3,
   "metadata": {},
   "outputs": [],
   "source": [
    "year_start = 2000"
   ]
  },
  {
   "cell_type": "code",
   "execution_count": 4,
   "metadata": {},
   "outputs": [],
   "source": [
    "start_date = pendulum.datetime(year_start, 1, 1)\n",
    "end_date = pendulum.datetime(year_start + 50, 12, 31)\n",
    "\n",
    "date_range = pendulum.period(start_date, end_date).range(\"days\")\n",
    "\n",
    "res = []\n",
    "for date in date_range:\n",
    "    try:\n",
    "        res.append(\n",
    "            {\n",
    "                \"date_key\": date.diff(pendulum.datetime(1970, 1, 1)).in_days(),\n",
    "                \"date\": date.format(\"YYYY-MM-DD\"),\n",
    "                \"day_of_week\": date.day_of_week,\n",
    "                \"day_name\": date.format(\"dddd\"),\n",
    "                \"day_of_month\": date.days_in_month,\n",
    "                \"day_of_year\": date.day_of_year,\n",
    "                \"week_of_year\": date.week_of_year,\n",
    "                \"month\": date.month,\n",
    "                \"month_name\": date.format(\"MMMM\"),\n",
    "                \"quarter\": date.quarter,\n",
    "                \"year\": date.year,\n",
    "                \"is_holiday\": date in us_holidays,\n",
    "                \"is_weekend\": True if date.day_of_week in [0, 6] else False,\n",
    "                \"is_workday\": True\n",
    "                if date not in us_holidays and date.day_of_week not in [0, 6]\n",
    "                else False,\n",
    "            }\n",
    "        )\n",
    "    except Exception as e:\n",
    "        pass\n",
    "    finally:\n",
    "        df = pd.DataFrame(res)\n",
    "        df.to_csv(\"output.csv\", index=False)"
   ]
  },
  {
   "cell_type": "code",
   "execution_count": 144,
   "metadata": {},
   "outputs": [],
   "source": [
    "for date in date_range:\n",
    "    print(date.format(\"dddd\"))"
   ]
  },
  {
   "cell_type": "code",
   "execution_count": 145,
   "metadata": {},
   "outputs": [],
   "source": [
    "res = []\n",
    "for date in date_range:\n",
    "    print(date.format(\"YYYY-MM-DD HH:mm:ss\"))\n",
    "    print(date)\n",
    "    print(\"hello\")\n",
    "    try:\n",
    "        res.append(\n",
    "            {\n",
    "                \"date_key\": date.diff(pendulum.datetime(1970, 1, 1)).in_days(),\n",
    "                \"date\": date,\n",
    "                \"day_of_week\": date.day_of_week,\n",
    "                \"day_name\": date.format(\"dddd\"),\n",
    "                \"day_of_month\": date.days_in_month,\n",
    "                \"day_of_year\": date.day_of_year,\n",
    "                \"week_of_year\": date.week_of_year,\n",
    "                \"month\": date.month,\n",
    "                \"month_name\": date.format(\"MMMM\"),\n",
    "                \"quarter\": date.quarter,\n",
    "                \"year\": date.year,\n",
    "                \"is_holiday\": True,\n",
    "                \"is_weekend\": False,\n",
    "                \"is_workday\": False,\n",
    "            }\n",
    "        )\n",
    "    except Exception as e:\n",
    "        pass"
   ]
  },
  {
   "cell_type": "code",
   "execution_count": null,
   "metadata": {},
   "outputs": [],
   "source": []
  }
 ],
 "metadata": {
  "kernelspec": {
   "display_name": "pyspark-environment",
   "language": "python",
   "name": "python3"
  },
  "language_info": {
   "codemirror_mode": {
    "name": "ipython",
    "version": 3
   },
   "file_extension": ".py",
   "mimetype": "text/x-python",
   "name": "python",
   "nbconvert_exporter": "python",
   "pygments_lexer": "ipython3",
   "version": "3.9.6"
  }
 },
 "nbformat": 4,
 "nbformat_minor": 2
}
