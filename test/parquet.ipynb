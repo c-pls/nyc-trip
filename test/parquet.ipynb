{
 "cells": [
  {
   "cell_type": "code",
   "execution_count": 1,
   "metadata": {},
   "outputs": [],
   "source": [
    "from pyspark.sql import SparkSession"
   ]
  },
  {
   "cell_type": "code",
   "execution_count": 2,
   "metadata": {},
   "outputs": [
    {
     "name": "stderr",
     "output_type": "stream",
     "text": [
      "your 131072x1 screen size is bogus. expect trouble\n",
      "23/11/18 21:49:46 WARN Utils: Your hostname, cpPC resolves to a loopback address: 127.0.1.1; using 172.25.249.11 instead (on interface eth0)\n",
      "23/11/18 21:49:46 WARN Utils: Set SPARK_LOCAL_IP if you need to bind to another address\n",
      "Setting default log level to \"WARN\".\n",
      "To adjust logging level use sc.setLogLevel(newLevel). For SparkR, use setLogLevel(newLevel).\n",
      "23/11/18 21:49:46 WARN NativeCodeLoader: Unable to load native-hadoop library for your platform... using builtin-java classes where applicable\n"
     ]
    }
   ],
   "source": [
    "spark = SparkSession.builder.appName(\"Test\").getOrCreate()"
   ]
  },
  {
   "cell_type": "code",
   "execution_count": 3,
   "metadata": {},
   "outputs": [],
   "source": [
    "from pyspark.sql.functions import col  # noqa: E402"
   ]
  },
  {
   "cell_type": "markdown",
   "metadata": {},
   "source": [
    "## Yellow Trip\n"
   ]
  },
  {
   "cell_type": "code",
   "execution_count": null,
   "metadata": {},
   "outputs": [],
   "source": [
    "yello_trip_df = spark.read.format(\"parquet\").load(\"./yellow_tripdata_2023-01.parquet\")\n",
    "\n",
    "print(yello_trip_df.count())\n",
    "\n",
    "print(\"-\" * 100)\n",
    "\n",
    "yello_trip_df.printSchema()"
   ]
  },
  {
   "cell_type": "code",
   "execution_count": null,
   "metadata": {},
   "outputs": [],
   "source": [
    "yello_trip_df.where(col(\"RatecodeID\") == 99).count()\n",
    "yello_trip_df.where(col(\"RatecodeID\") == 99).show(10)"
   ]
  },
  {
   "cell_type": "code",
   "execution_count": null,
   "metadata": {},
   "outputs": [],
   "source": [
    "print(len(yello_trip_df.columns))\n",
    "yello_trip_df.where(col(\"passenger_count\") == 0).show()"
   ]
  },
  {
   "cell_type": "markdown",
   "metadata": {},
   "source": [
    "## Green Trip\n"
   ]
  },
  {
   "cell_type": "code",
   "execution_count": 4,
   "metadata": {},
   "outputs": [
    {
     "name": "stdout",
     "output_type": "stream",
     "text": [
      "68211\n",
      "----------------------------------------------------------------------------------------------------\n",
      "root\n",
      " |-- VendorID: long (nullable = true)\n",
      " |-- lpep_pickup_datetime: timestamp_ntz (nullable = true)\n",
      " |-- lpep_dropoff_datetime: timestamp_ntz (nullable = true)\n",
      " |-- store_and_fwd_flag: string (nullable = true)\n",
      " |-- RatecodeID: double (nullable = true)\n",
      " |-- PULocationID: long (nullable = true)\n",
      " |-- DOLocationID: long (nullable = true)\n",
      " |-- passenger_count: double (nullable = true)\n",
      " |-- trip_distance: double (nullable = true)\n",
      " |-- fare_amount: double (nullable = true)\n",
      " |-- extra: double (nullable = true)\n",
      " |-- mta_tax: double (nullable = true)\n",
      " |-- tip_amount: double (nullable = true)\n",
      " |-- tolls_amount: double (nullable = true)\n",
      " |-- ehail_fee: integer (nullable = true)\n",
      " |-- improvement_surcharge: double (nullable = true)\n",
      " |-- total_amount: double (nullable = true)\n",
      " |-- payment_type: double (nullable = true)\n",
      " |-- trip_type: double (nullable = true)\n",
      " |-- congestion_surcharge: double (nullable = true)\n",
      "\n"
     ]
    }
   ],
   "source": [
    "green_trip_df = spark.read.format(\"parquet\").load(\"./green_tripdata_2023-01.parquet\")\n",
    "print(green_trip_df.count())\n",
    "print(\"-\" * 100)\n",
    "green_trip_df.printSchema()"
   ]
  },
  {
   "cell_type": "code",
   "execution_count": 5,
   "metadata": {},
   "outputs": [
    {
     "name": "stdout",
     "output_type": "stream",
     "text": [
      "+--------+--------------------+---------------------+------------------+----------+------------+------------+---------------+-------------+-----------+-----+-------+----------+------------+---------+---------------------+------------+------------+---------+--------------------+\n",
      "|VendorID|lpep_pickup_datetime|lpep_dropoff_datetime|store_and_fwd_flag|RatecodeID|PULocationID|DOLocationID|passenger_count|trip_distance|fare_amount|extra|mta_tax|tip_amount|tolls_amount|ehail_fee|improvement_surcharge|total_amount|payment_type|trip_type|congestion_surcharge|\n",
      "+--------+--------------------+---------------------+------------------+----------+------------+------------+---------------+-------------+-----------+-----+-------+----------+------------+---------+---------------------+------------+------------+---------+--------------------+\n",
      "|       2| 2023-01-01 00:26:10|  2023-01-01 00:37:11|                 N|       1.0|         166|         143|            1.0|         2.58|       14.9|  1.0|    0.5|      4.03|         0.0|     null|                  1.0|       24.18|         1.0|      1.0|                2.75|\n",
      "|       2| 2023-01-01 00:51:03|  2023-01-01 00:57:49|                 N|       1.0|          24|          43|            1.0|         1.81|       10.7|  1.0|    0.5|      2.64|         0.0|     null|                  1.0|       15.84|         1.0|      1.0|                 0.0|\n",
      "|       2| 2023-01-01 00:35:12|  2023-01-01 00:41:32|                 N|       1.0|         223|         179|            1.0|          0.0|        7.2|  1.0|    0.5|      1.94|         0.0|     null|                  1.0|       11.64|         1.0|      1.0|                 0.0|\n",
      "|       1| 2023-01-01 00:13:14|  2023-01-01 00:19:03|                 N|       1.0|          41|         238|            1.0|          1.3|        6.5|  0.5|    1.5|       1.7|         0.0|     null|                  1.0|        10.2|         1.0|      1.0|                 0.0|\n",
      "|       1| 2023-01-01 00:33:04|  2023-01-01 00:39:02|                 N|       1.0|          41|          74|            1.0|          1.1|        6.0|  0.5|    1.5|       0.0|         0.0|     null|                  1.0|         8.0|         1.0|      1.0|                 0.0|\n",
      "|       2| 2023-01-01 00:53:31|  2023-01-01 01:11:04|                 N|       1.0|          41|         262|            1.0|         2.78|       17.7|  1.0|    0.5|       0.0|         0.0|     null|                  1.0|       22.95|         2.0|      1.0|                2.75|\n",
      "|       1| 2023-01-01 00:09:14|  2023-01-01 00:26:39|                 N|       1.0|         181|          45|            2.0|          3.8|       19.1| 3.75|    1.5|      4.85|         0.0|     null|                  1.0|        29.2|         1.0|      1.0|                2.75|\n",
      "|       2| 2023-01-01 00:11:58|  2023-01-01 00:24:55|                 N|       1.0|          24|          75|            1.0|         1.88|       14.2|  1.0|    0.5|       0.0|         0.0|     null|                  1.0|        16.7|         2.0|      1.0|                 0.0|\n",
      "|       2| 2023-01-01 00:41:29|  2023-01-01 00:46:26|                 N|       1.0|          41|         166|            2.0|         1.11|        7.2|  1.0|    0.5|       1.0|         0.0|     null|                  1.0|        10.7|         1.0|      1.0|                 0.0|\n",
      "|       2| 2023-01-01 00:50:32|  2023-01-01 01:13:42|                 N|       1.0|          24|         140|            1.0|         4.22|       24.7|  1.0|    0.5|       3.0|         0.0|     null|                  1.0|       32.95|         1.0|      1.0|                2.75|\n",
      "|       1| 2023-01-01 00:16:12|  2023-01-01 00:41:43|                 N|       1.0|         255|         234|            2.0|          4.8|       26.8| 3.75|    1.5|       0.0|         0.0|     null|                  1.0|       32.05|         1.0|      1.0|                2.75|\n",
      "|       2| 2023-01-01 00:08:43|  2023-01-01 00:17:08|                 N|       1.0|          75|         140|            1.0|         1.99|       11.4|  1.0|    0.5|      3.33|         0.0|     null|                  1.0|       19.98|         1.0|      1.0|                2.75|\n",
      "|       2| 2023-01-01 00:26:32|  2023-01-01 00:45:31|                 N|       1.0|          75|         148|            1.0|         7.08|       30.3|  1.0|    0.5|       3.0|         0.0|     null|                  1.0|       38.55|         1.0|      1.0|                2.75|\n",
      "|       2| 2023-01-01 00:18:35|  2023-01-01 00:30:09|                 N|       1.0|          66|         255|            1.0|         3.23|       17.7|  1.0|    0.5|      4.04|         0.0|     null|                  1.0|       24.24|         1.0|      1.0|                 0.0|\n",
      "|       2| 2023-01-01 00:39:32|  2023-01-01 01:18:06|                 N|       1.0|         255|         186|            1.0|         5.91|       35.9|  1.0|    0.5|       0.0|         0.0|     null|                  1.0|       41.15|         2.0|      1.0|                2.75|\n",
      "|       1| 2023-01-01 00:49:34|  2023-01-01 01:08:23|                 N|       1.0|         195|         210|            1.0|         11.3|       32.5|  0.5|    1.5|       0.0|         0.0|     null|                  1.0|        34.5|         2.0|      1.0|                 0.0|\n",
      "|       1| 2023-01-01 00:10:45|  2023-01-01 00:19:37|                 N|       5.0|          83|         129|            1.0|          1.3|       15.0|  0.0|    0.0|       0.0|         0.0|     null|                  0.0|        15.0|         1.0|      2.0|                 0.0|\n",
      "|       2| 2023-01-01 00:35:11|  2023-01-01 01:17:35|                 N|       1.0|          97|          68|            1.0|         8.28|       44.3|  1.0|    0.5|       5.0|         0.0|     null|                  1.0|       54.55|         1.0|      1.0|                2.75|\n",
      "|       2| 2023-01-01 00:31:06|  2023-01-01 00:42:23|                 N|       1.0|           7|         260|            1.0|         2.02|       12.8|  1.0|    0.5|       0.0|         0.0|     null|                  1.0|        15.3|         2.0|      1.0|                 0.0|\n",
      "|       2| 2023-01-01 00:14:37|  2023-01-01 00:21:50|                 N|       1.0|          41|          75|            1.0|         0.96|        8.6|  1.0|    0.5|       0.0|         0.0|     null|                  1.0|        11.1|         2.0|      1.0|                 0.0|\n",
      "+--------+--------------------+---------------------+------------------+----------+------------+------------+---------------+-------------+-----------+-----+-------+----------+------------+---------+---------------------+------------+------------+---------+--------------------+\n",
      "only showing top 20 rows\n",
      "\n"
     ]
    }
   ],
   "source": [
    "green_trip_df.show(20)"
   ]
  },
  {
   "cell_type": "markdown",
   "metadata": {},
   "source": [
    "## For hire Vehicles\n"
   ]
  },
  {
   "cell_type": "code",
   "execution_count": null,
   "metadata": {},
   "outputs": [],
   "source": [
    "fhv_trip_df = spark.read.format(\"parquet\").load(\"./fhv_tripdata_2023-01.parquet\")\n",
    "print(fhv_trip_df.count())\n",
    "print(\"-\" * 100)\n",
    "fhv_trip_df.printSchema()"
   ]
  },
  {
   "cell_type": "markdown",
   "metadata": {},
   "source": [
    "## High volume FHV Trip\n"
   ]
  },
  {
   "cell_type": "code",
   "execution_count": null,
   "metadata": {},
   "outputs": [],
   "source": [
    "high_volume_fhv_trip_df = spark.read.format(\"parquet\").load(\n",
    "    \"./fhvhv_tripdata_2023-01.parquet\"\n",
    ")\n",
    "print(high_volume_fhv_trip_df.count())\n",
    "print(\"-\" * 100)\n",
    "high_volume_fhv_trip_df.printSchema()"
   ]
  },
  {
   "cell_type": "code",
   "execution_count": null,
   "metadata": {},
   "outputs": [],
   "source": []
  }
 ],
 "metadata": {
  "kernelspec": {
   "display_name": "airflow-environment",
   "language": "python",
   "name": "python3"
  },
  "language_info": {
   "codemirror_mode": {
    "name": "ipython",
    "version": 3
   },
   "file_extension": ".py",
   "mimetype": "text/x-python",
   "name": "python",
   "nbconvert_exporter": "python",
   "pygments_lexer": "ipython3",
   "version": "3.9.6"
  }
 },
 "nbformat": 4,
 "nbformat_minor": 2
}
